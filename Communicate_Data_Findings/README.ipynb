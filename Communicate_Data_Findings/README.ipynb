{
 "cells": [
  {
   "cell_type": "markdown",
   "metadata": {},
   "source": [
    "# Dataset "
   ]
  },
  {
   "cell_type": "markdown",
   "metadata": {},
   "source": [
    "In this project, I picked Ford gobike dataset. This dataset is about 2 years of data, containing more than 3 million rows. Here are the attributes of this dataset:\n",
    "\n",
    "    - bike_id\n",
    "    - bike_share_for_all_trip\n",
    "    - duration_sec\n",
    "    - end_station_id\n",
    "    - end_station_latitude\n",
    "    - end_station_longitude\n",
    "    - end_station_name\n",
    "    - end_time\n",
    "    - member_birth_year\n",
    "    - member_gender\n",
    "    - start_station_id\n",
    "    - start_station_latitude\n",
    "    - start_station_longitude\n",
    "    - start_station_name\n",
    "    - start_time\n",
    "    - user_type\n",
    "    \n",
    "You'll find more information here: https://www.lyft.com/bikes/bay-wheels/system-data\n",
    "    "
   ]
  },
  {
   "cell_type": "markdown",
   "metadata": {},
   "source": [
    "# Main Findings"
   ]
  },
  {
   "cell_type": "markdown",
   "metadata": {},
   "source": [
    "Here are the main findings in my report:\n",
    "\n",
    "-  Viva Calle SJ has the longest average duration for a starting station, and SF Test Station has the shortest average duration for a starting station.\n",
    "\n",
    "- 16th St Depot by far has the longest average duration for an ending station, and MacArthur BART Station has the shortest average duration for a ending station.\n",
    "\n",
    "- Females have an average age of 34.20, and males have an average age of 35.47.\n",
    "\n",
    "- In the case of females, we have 629327 subscribers and 106363 customers ,and in the case of males, we have 2019034 subscribers and 232094 customers.\n",
    "\n",
    "- In the case of females, we have 580956 non-subscribers to the bike share service and 56113 subscribers, and in the case of males, we have 1726650 non-subscribers to the bike share service and 176160 subscribers.\n",
    "\n",
    "- Customers have an average age of 33.51, Subscribers have an average age of 35.38.\n",
    "\n",
    "- Most trips are less than 5000 seconds (83 min), and the highest number of trips (peak) has a duration of 600 seconds. (10 min)\n",
    "\n",
    "- The number of rides has increased. And it's increasing constantly.\n",
    "\n",
    "- March and April have the highest number of trips (More than 350000). May, on the other hand, has the least number of trips (Less than 200000).\n",
    "\n",
    "- Weekend days have the least number of trips (about 300000). Meanwhile, work days are so busy. All work has more than 500000 trips.\n",
    "\n",
    "- 8 am and 5 pm have the highest number of trips. 3 and 4 am have the least number of trips.\n",
    "\n",
    "- People form 31 to 40 used to be the one who are using gobike the most. However, after mid-2018, the number of younger people (from 18 to 30) have increased. Now they are the one who uses gobike the most.\n",
    "\n",
    "- 39.6% are in the age range of 31 to 40, this is the highest age group, and the least age group are people older than 50 with 8.9%.\n",
    "\n",
    "\n",
    "You can see more details in the file: Project_Communicate_Data_Findings.ipynb"
   ]
  },
  {
   "cell_type": "markdown",
   "metadata": {},
   "source": [
    "# Resources"
   ]
  },
  {
   "cell_type": "markdown",
   "metadata": {},
   "source": [
    "- Ford Gobike dataset: https://s3.amazonaws.com/fordgobike-data/index.html\n",
    "\n",
    "- Information about Gobike: https://en.wikipedia.org/wiki/Bay_Wheels\n",
    "\n",
    "- Requests :https://realpython.com/python-requests/\n",
    "\n",
    "- Deal with Zip-Files: https://stackoverflow.com/questions/9419162/download-returned-zip-file-from-url/31706921#31706921\n",
    "\n",
    "- Bar chart with label name and value on top in pandas: https://stackoverflow.com/questions/51676506/bar-chart-with-label-name-and-value-on-top-in-pandas\n"
   ]
  },
  {
   "cell_type": "code",
   "execution_count": null,
   "metadata": {},
   "outputs": [],
   "source": []
  }
 ],
 "metadata": {
  "kernelspec": {
   "display_name": "Python 3",
   "language": "python",
   "name": "python3"
  },
  "language_info": {
   "codemirror_mode": {
    "name": "ipython",
    "version": 3
   },
   "file_extension": ".py",
   "mimetype": "text/x-python",
   "name": "python",
   "nbconvert_exporter": "python",
   "pygments_lexer": "ipython3",
   "version": "3.7.3"
  }
 },
 "nbformat": 4,
 "nbformat_minor": 2
}
